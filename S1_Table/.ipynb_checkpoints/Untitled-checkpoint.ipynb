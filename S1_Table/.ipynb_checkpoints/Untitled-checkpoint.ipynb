{
 "cells": [
  {
   "cell_type": "code",
   "execution_count": 1,
   "metadata": {
    "collapsed": true
   },
   "outputs": [],
   "source": [
    "import graphlab"
   ]
  },
  {
   "cell_type": "code",
   "execution_count": 47,
   "metadata": {
    "collapsed": true
   },
   "outputs": [],
   "source": [
    "#input files\n",
    "dir_csv=\"/Users/aponsero/Desktop/jimmy_figures/KrakenUnique_set\"\n",
    "\n",
    "file_csv=dir_csv+\"/kraken_krakenuniq_data.species.0.00.csv\"\n",
    "truth_file=dir_csv+\"/all_species.csv\"\n",
    "\n",
    "\n",
    "samples=dir_csv+\"/samples_list.txt\""
   ]
  },
  {
   "cell_type": "code",
   "execution_count": 48,
   "metadata": {
    "collapsed": false,
    "scrolled": true
   },
   "outputs": [
    {
     "data": {
      "text/html": [
       "<pre>Finished parsing file /Users/aponsero/Desktop/jimmy_figures/KrakenUnique_set/kraken_krakenuniq_data.genus.0.00.csv</pre>"
      ],
      "text/plain": [
       "Finished parsing file /Users/aponsero/Desktop/jimmy_figures/KrakenUnique_set/kraken_krakenuniq_data.genus.0.00.csv"
      ]
     },
     "metadata": {},
     "output_type": "display_data"
    },
    {
     "data": {
      "text/html": [
       "<pre>Parsing completed. Parsed 100 lines in 0.11069 secs.</pre>"
      ],
      "text/plain": [
       "Parsing completed. Parsed 100 lines in 0.11069 secs."
      ]
     },
     "metadata": {},
     "output_type": "display_data"
    },
    {
     "name": "stdout",
     "output_type": "stream",
     "text": [
      "------------------------------------------------------\n",
      "Inferred types from first 100 line(s) of file as \n",
      "column_type_hints=[float,int,str,int,str]\n",
      "If parsing fails due to incorrect types, you can correct\n",
      "the inferred type list above and pass it to read_csv in\n",
      "the column_type_hints argument\n",
      "------------------------------------------------------\n"
     ]
    },
    {
     "data": {
      "text/html": [
       "<pre>Finished parsing file /Users/aponsero/Desktop/jimmy_figures/KrakenUnique_set/kraken_krakenuniq_data.genus.0.00.csv</pre>"
      ],
      "text/plain": [
       "Finished parsing file /Users/aponsero/Desktop/jimmy_figures/KrakenUnique_set/kraken_krakenuniq_data.genus.0.00.csv"
      ]
     },
     "metadata": {},
     "output_type": "display_data"
    },
    {
     "data": {
      "text/html": [
       "<pre>Parsing completed. Parsed 22244 lines in 0.038745 secs.</pre>"
      ],
      "text/plain": [
       "Parsing completed. Parsed 22244 lines in 0.038745 secs."
      ]
     },
     "metadata": {},
     "output_type": "display_data"
    },
    {
     "data": {
      "text/plain": [
       "dtype: str\n",
       "Rows: ?\n",
       "['ABRF_MGRG_10ng_Repli_g_08142015_ATGTCA_L001.fa.report', 'ABRF_MGRG_10ng_Repli_g_08142015_ATGTCA_L001.fa.report', 'ABRF_MGRG_10ng_Repli_g_08142015_ATGTCA_L001.fa.report', 'ABRF_MGRG_10ng_Repli_g_08142015_ATGTCA_L001.fa.report', 'ABRF_MGRG_10ng_Repli_g_08142015_ATGTCA_L001.fa.report', 'ABRF_MGRG_1ng_Repli_g_08142015_GTCCGC_L001.fa.report', 'ABRF_MGRG_1ng_Repli_g_08142015_GTCCGC_L001.fa.report', 'ABRF_MGRG_1ng_Repli_g_08142015_GTCCGC_L001.fa.report', 'ABRF_MGRG_1ng_Repli_g_08142015_GTCCGC_L001.fa.report', 'ABRF_MGRG_1ng_Repli_g_08142015_GTCCGC_L001.fa.report', 'ABRF_MGRG_1ng_Repli_g_08142015_GTCCGC_L001.fa.report', 'ABRF_MGRG_5ng_Repli_g_08142015_CCGTCC_L001.fa.report', 'ABRF_MGRG_5ng_Repli_g_08142015_CCGTCC_L001.fa.report', 'ABRF_MGRG_5ng_Repli_g_08142015_CCGTCC_L001.fa.report', 'ABRF_MGRG_5ng_Repli_g_08142015_CCGTCC_L001.fa.report', 'ABRF_MGRG_5ng_Repli_g_08142015_CCGTCC_L001.fa.report', 'ABRF_MGRG_5ng_Repli_g_08142015_CCGTCC_L001.fa.report', 'ABRF_MGRG_Half_ng_Repli_g_08142015_GTGAAA_L001.fa.report', 'ABRF_MGRG_Half_ng_Repli_g_08142015_GTGAAA_L001.fa.report', 'ABRF_MGRG_Half_ng_Repli_g_08142015_GTGAAA_L001.fa.report', 'ABRF_MGRG_Half_ng_Repli_g_08142015_GTGAAA_L001.fa.report', 'ABRF_MGRG_Half_ng_Repli_g_08142015_GTGAAA_L001.fa.report', 'ABRF_MGRG_Half_ng_Repli_g_08142015_GTGAAA_L001.fa.report', 'ABRF_MGRG_Normal_08142015_CGTACG_L001.fa.report', 'ABRF_MGRG_Normal_08142015_CGTACG_L001.fa.report', 'ABRF_MGRG_Normal_08142015_CGTACG_L001.fa.report', 'ABRF_MGRG_Normal_08142015_CGTACG_L001.fa.report', 'ABRF_MGRG_Normal_08142015_CGTACG_L001.fa.report', 'BioPool_BioPool_1_Cycle_02042016_CTGAAGCT-TATAGCCT_L001.fa.report', 'BioPool_BioPool_1_Cycle_02042016_CTGAAGCT-TATAGCCT_L001.fa.report', 'BioPool_BioPool_1_Cycle_02042016_CTGAAGCT-TATAGCCT_L001.fa.report', 'BioPool_BioPool_1_Cycle_02042016_CTGAAGCT-TATAGCCT_L001.fa.report', 'BioPool_BioPool_1_Cycle_02042016_CTGAAGCT-TATAGCCT_L001.fa.report', 'BioPool_BioPool_1_Cycle_02042016_CTGAAGCT-TATAGCCT_L001.fa.report', 'BioPool_BioPool_1_Cycle_02042016_CTGAAGCT-TATAGCCT_L001.fa.report', 'BioPool_BioPool_1_Cycle_02042016_CTGAAGCT-TATAGCCT_L001.fa.report', 'BioPool_BioPool_1_Cycle_02042016_CTGAAGCT-TATAGCCT_L001.fa.report', 'BioPool_BioPool_1_Cycle_02042016_CTGAAGCT-TATAGCCT_L001.fa.report', 'BMI_bmi_reads.fasta.fa.report', 'BMI_bmi_reads.fasta.fa.report', 'BMI_bmi_reads.fasta.fa.report', 'BMI_bmi_reads.fasta.fa.report', 'BMI_bmi_reads.fasta.fa.report', 'BMI_bmi_reads.fasta.fa.report', 'Carma_eval_carma.fasta.fa.report', 'Carma_eval_carma.fasta.fa.report', 'Carma_eval_carma.fasta.fa.report', 'Carma_eval_carma.fasta.fa.report', 'Carma_eval_carma.fasta.fa.report', 'Carma_eval_carma.fasta.fa.report', 'Carma_eval_carma.fasta.fa.report', 'Carma_eval_carma.fasta.fa.report', 'Carma_eval_carma.fasta.fa.report', 'Carma_eval_carma.fasta.fa.report', 'Carma_eval_carma.fasta.fa.report', 'Carma_eval_carma.fasta.fa.report', 'Carma_eval_carma.fasta.fa.report', 'Carma_eval_carma.fasta.fa.report', 'Carma_eval_carma.fasta.fa.report', 'Carma_eval_carma.fasta.fa.report', 'Carma_eval_carma.fasta.fa.report', 'Carma_eval_carma.fasta.fa.report', 'Carma_eval_carma.fasta.fa.report', 'Carma_eval_carma.fasta.fa.report', 'Carma_eval_carma.fasta.fa.report', 'Carma_eval_carma.fasta.fa.report', 'HMP_even_454_SRR072233.fa.report', 'HMP_even_454_SRR072233.fa.report', 'HMP_even_454_SRR072233.fa.report', 'HMP_even_454_SRR072233.fa.report', 'HMP_even_454_SRR072233.fa.report', 'HMP_even_454_SRR072233.fa.report', 'HMP_even_454_SRR072233.fa.report', 'HMP_even_454_SRR072233.fa.report', 'HMP_even_454_SRR072233.fa.report', 'HMP_even_454_SRR072233.fa.report', 'HMP_even_454_SRR072233.fa.report', 'HMP_even_454_SRR072233.fa.report', 'HMP_even_illum_SRR172902.fa.report', 'HMP_even_illum_SRR172902.fa.report', 'HMP_even_illum_SRR172902.fa.report', 'HMP_even_illum_SRR172902.fa.report', 'HMP_even_illum_SRR172902.fa.report', 'HMP_even_illum_SRR172902.fa.report', 'HMP_even_illum_SRR172902.fa.report', 'HMP_even_illum_SRR172902.fa.report', 'HMP_even_illum_SRR172902.fa.report', 'HMP_even_illum_SRR172902.fa.report', 'HMP_even_illum_SRR172902.fa.report', 'HMP_even_illum_SRR172902.fa.report', 'Huttenhower_HC1.fasta.fa.report', 'Huttenhower_HC1.fasta.fa.report', 'Huttenhower_HC1.fasta.fa.report', 'Huttenhower_HC1.fasta.fa.report', 'Huttenhower_HC1.fasta.fa.report', 'Huttenhower_HC1.fasta.fa.report', 'Huttenhower_HC1.fasta.fa.report', 'Huttenhower_HC1.fasta.fa.report', 'Huttenhower_HC1.fasta.fa.report', 'Huttenhower_HC1.fasta.fa.report', ... ]"
      ]
     },
     "execution_count": 48,
     "metadata": {},
     "output_type": "execute_result"
    }
   ],
   "source": [
    "my_frame=graphlab.SFrame.read_csv(file_csv)\n",
    "filter=0.01\n",
    "\n",
    "my_frame_filt=my_frame[(my_frame['pct'] >= filter)]\n",
    "my_frame_filt[\"sample\"]"
   ]
  },
  {
   "cell_type": "code",
   "execution_count": 49,
   "metadata": {
    "collapsed": false
   },
   "outputs": [
    {
     "data": {
      "text/html": [
       "<pre>Finished parsing file /Users/aponsero/Desktop/jimmy_figures/KrakenUnique_set/all_genus.csv</pre>"
      ],
      "text/plain": [
       "Finished parsing file /Users/aponsero/Desktop/jimmy_figures/KrakenUnique_set/all_genus.csv"
      ]
     },
     "metadata": {},
     "output_type": "display_data"
    },
    {
     "data": {
      "text/html": [
       "<pre>Parsing completed. Parsed 1240 lines in 0.012392 secs.</pre>"
      ],
      "text/plain": [
       "Parsing completed. Parsed 1240 lines in 0.012392 secs."
      ]
     },
     "metadata": {},
     "output_type": "display_data"
    },
    {
     "data": {
      "text/plain": [
       "dtype: str\n",
       "Rows: 1240\n",
       "['ABRF_MGRG_1ng_Repli_g_08142015_GTCCGC_L001.fa.report', 'ABRF_MGRG_1ng_Repli_g_08142015_GTCCGC_L001.fa.report', 'ABRF_MGRG_1ng_Repli_g_08142015_GTCCGC_L001.fa.report', 'ABRF_MGRG_1ng_Repli_g_08142015_GTCCGC_L001.fa.report', 'ABRF_MGRG_1ng_Repli_g_08142015_GTCCGC_L001.fa.report', 'ABRF_MGRG_5ng_Repli_g_08142015_CCGTCC_L001.fa.report', 'ABRF_MGRG_5ng_Repli_g_08142015_CCGTCC_L001.fa.report', 'ABRF_MGRG_5ng_Repli_g_08142015_CCGTCC_L001.fa.report', 'ABRF_MGRG_5ng_Repli_g_08142015_CCGTCC_L001.fa.report', 'ABRF_MGRG_5ng_Repli_g_08142015_CCGTCC_L001.fa.report', 'ABRF_MGRG_10ng_Repli_g_08142015_ATGTCA_L001.fa.report', 'ABRF_MGRG_10ng_Repli_g_08142015_ATGTCA_L001.fa.report', 'ABRF_MGRG_10ng_Repli_g_08142015_ATGTCA_L001.fa.report', 'ABRF_MGRG_10ng_Repli_g_08142015_ATGTCA_L001.fa.report', 'ABRF_MGRG_10ng_Repli_g_08142015_ATGTCA_L001.fa.report', 'ABRF_MGRG_Half_ng_Repli_g_08142015_GTGAAA_L001.fa.report', 'ABRF_MGRG_Half_ng_Repli_g_08142015_GTGAAA_L001.fa.report', 'ABRF_MGRG_Half_ng_Repli_g_08142015_GTGAAA_L001.fa.report', 'ABRF_MGRG_Half_ng_Repli_g_08142015_GTGAAA_L001.fa.report', 'ABRF_MGRG_Half_ng_Repli_g_08142015_GTGAAA_L001.fa.report', 'ABRF_MGRG_Normal_08142015_CGTACG_L001.fa.report', 'ABRF_MGRG_Normal_08142015_CGTACG_L001.fa.report', 'ABRF_MGRG_Normal_08142015_CGTACG_L001.fa.report', 'ABRF_MGRG_Normal_08142015_CGTACG_L001.fa.report', 'ABRF_MGRG_Normal_08142015_CGTACG_L001.fa.report', 'BioPool_BioPool_1_Cycle_02042016_CTGAAGCT-TATAGCCT_L001.fa.report', 'BioPool_BioPool_1_Cycle_02042016_CTGAAGCT-TATAGCCT_L001.fa.report', 'BioPool_BioPool_1_Cycle_02042016_CTGAAGCT-TATAGCCT_L001.fa.report', 'BioPool_BioPool_1_Cycle_02042016_CTGAAGCT-TATAGCCT_L001.fa.report', 'BioPool_BioPool_1_Cycle_02042016_CTGAAGCT-TATAGCCT_L001.fa.report', 'BioPool_BioPool_1_Cycle_02042016_CTGAAGCT-TATAGCCT_L001.fa.report', 'BioPool_BioPool_1_Cycle_02042016_CTGAAGCT-TATAGCCT_L001.fa.report', 'BioPool_BioPool_1_Cycle_02042016_CTGAAGCT-TATAGCCT_L001.fa.report', 'BioPool_BioPool_1_Cycle_02042016_CTGAAGCT-TATAGCCT_L001.fa.report', 'BioPool_BioPool_1_Cycle_02042016_CTGAAGCT-TATAGCCT_L001.fa.report', 'BMI_bmi_reads.fasta.fa.report', 'BMI_bmi_reads.fasta.fa.report', 'BMI_bmi_reads.fasta.fa.report', 'BMI_bmi_reads.fasta.fa.report', 'BMI_bmi_reads.fasta.fa.report', 'BMI_bmi_reads.fasta.fa.report', 'BMI_bmi_reads.fasta.fa.report', 'BMI_bmi_reads.fasta.fa.report', 'Carma_eval_carma.fasta.fa.report', 'Carma_eval_carma.fasta.fa.report', 'Carma_eval_carma.fasta.fa.report', 'Carma_eval_carma.fasta.fa.report', 'Carma_eval_carma.fasta.fa.report', 'Carma_eval_carma.fasta.fa.report', 'Carma_eval_carma.fasta.fa.report', 'Carma_eval_carma.fasta.fa.report', 'Carma_eval_carma.fasta.fa.report', 'Carma_eval_carma.fasta.fa.report', 'Carma_eval_carma.fasta.fa.report', 'Carma_eval_carma.fasta.fa.report', 'Carma_eval_carma.fasta.fa.report', 'Carma_eval_carma.fasta.fa.report', 'Carma_eval_carma.fasta.fa.report', 'Carma_eval_carma.fasta.fa.report', 'Carma_eval_carma.fasta.fa.report', 'Carma_eval_carma.fasta.fa.report', 'Carma_eval_carma.fasta.fa.report', 'Carma_eval_carma.fasta.fa.report', 'Carma_eval_carma.fasta.fa.report', 'Carma_eval_carma.fasta.fa.report', 'HMP_even_454_SRR072233.fa.report', 'HMP_even_454_SRR072233.fa.report', 'HMP_even_454_SRR072233.fa.report', 'HMP_even_454_SRR072233.fa.report', 'HMP_even_454_SRR072233.fa.report', 'HMP_even_454_SRR072233.fa.report', 'HMP_even_454_SRR072233.fa.report', 'HMP_even_454_SRR072233.fa.report', 'HMP_even_454_SRR072233.fa.report', 'HMP_even_454_SRR072233.fa.report', 'HMP_even_454_SRR072233.fa.report', 'HMP_even_454_SRR072233.fa.report', 'HMP_even_454_SRR072233.fa.report', 'HMP_even_454_SRR072233.fa.report', 'HMP_even_454_SRR072233.fa.report', 'HMP_even_454_SRR072233.fa.report', 'HMP_even_454_SRR072233.fa.report', 'HMP_even_454_SRR072233.fa.report', 'HMP_even_454_SRR072233.fa.report', 'HMP_even_illum_SRR172902.fa.report', 'HMP_even_illum_SRR172902.fa.report', 'HMP_even_illum_SRR172902.fa.report', 'HMP_even_illum_SRR172902.fa.report', 'HMP_even_illum_SRR172902.fa.report', 'HMP_even_illum_SRR172902.fa.report', 'HMP_even_illum_SRR172902.fa.report', 'HMP_even_illum_SRR172902.fa.report', 'HMP_even_illum_SRR172902.fa.report', 'HMP_even_illum_SRR172902.fa.report', 'HMP_even_illum_SRR172902.fa.report', 'HMP_even_illum_SRR172902.fa.report', 'HMP_even_illum_SRR172902.fa.report', 'HMP_even_illum_SRR172902.fa.report', 'HMP_even_illum_SRR172902.fa.report', 'HMP_even_illum_SRR172902.fa.report', ... ]"
      ]
     },
     "execution_count": 49,
     "metadata": {},
     "output_type": "execute_result"
    }
   ],
   "source": [
    "truth_frame=graphlab.SFrame.read_csv(truth_file, column_type_hints=str)\n",
    "truth_frame[\"sample\"]"
   ]
  },
  {
   "cell_type": "code",
   "execution_count": 50,
   "metadata": {
    "collapsed": false,
    "scrolled": true
   },
   "outputs": [
    {
     "name": "stdout",
     "output_type": "stream",
     "text": [
      "ABRF_MGRG_10ng_Repli_g_08142015_ATGTCA_L001.fa.report\n",
      "--------------------------------\n",
      "['sample tax :Halobacillus', 'sample tax :Staphylococcus', 'sample tax :Micrococcus', 'sample tax :Escherichia', 'sample tax :Pseudomonas', ... ]\n",
      "['truth tax :Micrococcus', 'truth tax :Staphylococcus', 'truth tax :Halobacillus', 'truth tax :Escherichia', 'truth tax :Pseudomonas', ... ]\n",
      "TP=5-- FN=0\n",
      "precision=1.0-- recall=1.0-- F1=1.0\n",
      "(5, 5)\n",
      "(5, 12)\n",
      "###################################\n",
      "ABRF_MGRG_1ng_Repli_g_08142015_GTCCGC_L001.fa.report\n",
      "--------------------------------\n",
      "['sample tax :Halobacillus', 'sample tax :Staphylococcus', 'sample tax :Clostridium', 'sample tax :Micrococcus', 'sample tax :Escherichia', 'sample tax :Pseudomonas', ... ]\n",
      "['truth tax :Micrococcus', 'truth tax :Staphylococcus', 'truth tax :Halobacillus', 'truth tax :Escherichia', 'truth tax :Pseudomonas', ... ]\n",
      "TP=5-- FN=0\n",
      "precision=0.833333333333-- recall=1.0-- F1=0.909090909091\n",
      "(6, 5)\n",
      "(5, 12)\n",
      "###################################\n",
      "ABRF_MGRG_5ng_Repli_g_08142015_CCGTCC_L001.fa.report\n",
      "--------------------------------\n",
      "['sample tax :Halobacillus', 'sample tax :Staphylococcus', 'sample tax :Micrococcus', 'sample tax :Escherichia', 'sample tax :Pseudomonas', 'sample tax :Cupriavidus', ... ]\n",
      "['truth tax :Micrococcus', 'truth tax :Staphylococcus', 'truth tax :Halobacillus', 'truth tax :Escherichia', 'truth tax :Pseudomonas', ... ]\n",
      "TP=5-- FN=0\n",
      "precision=0.833333333333-- recall=1.0-- F1=0.909090909091\n",
      "(6, 5)\n",
      "(5, 12)\n",
      "###################################\n",
      "ABRF_MGRG_Half_ng_Repli_g_08142015_GTGAAA_L001.fa.report\n",
      "--------------------------------\n",
      "['sample tax :Halobacillus', 'sample tax :Staphylococcus', 'sample tax :Micrococcus', 'sample tax :Pseudomonas', 'sample tax :Escherichia', 'sample tax :Cupriavidus', ... ]\n",
      "['truth tax :Micrococcus', 'truth tax :Staphylococcus', 'truth tax :Halobacillus', 'truth tax :Escherichia', 'truth tax :Pseudomonas', ... ]\n",
      "TP=5-- FN=0\n",
      "precision=0.833333333333-- recall=1.0-- F1=0.909090909091\n",
      "(6, 5)\n",
      "(5, 12)\n",
      "###################################\n",
      "ABRF_MGRG_Normal_08142015_CGTACG_L001.fa.report\n",
      "--------------------------------\n",
      "['sample tax :Micrococcus', 'sample tax :Halobacillus', 'sample tax :Staphylococcus', 'sample tax :Pseudomonas', 'sample tax :Escherichia', ... ]\n",
      "['truth tax :Micrococcus', 'truth tax :Staphylococcus', 'truth tax :Halobacillus', 'truth tax :Escherichia', 'truth tax :Pseudomonas', ... ]\n",
      "TP=5-- FN=0\n",
      "precision=1.0-- recall=1.0-- F1=1.0\n",
      "(5, 5)\n",
      "(5, 12)\n",
      "###################################\n",
      "BioPool_BioPool_1_Cycle_02042016_CTGAAGCT-TATAGCCT_L001.fa.report\n",
      "--------------------------------\n",
      "['sample tax :Staphylococcus', 'sample tax :Listeria', 'sample tax :Bacillus', 'sample tax :Enterococcus', 'sample tax :Lactobacillus', 'sample tax :Salmonella', 'sample tax :Escherichia', 'sample tax :Pseudomonas', 'sample tax :Cupriavidus', 'sample tax :Homo', ... ]\n",
      "['truth tax :Enterococcus', 'truth tax :Bacillus', 'truth tax :Lactobacillus', 'truth tax :Listeria', 'truth tax :Escherichia', 'truth tax :Staphylococcus', 'truth tax :Salmonella', 'truth tax :Pseudomonas', 'truth tax :Filobasidiella', 'truth tax :Saccharomyces', ... ]\n",
      "TP=8-- FN=2\n",
      "precision=0.8-- recall=0.8-- F1=0.8\n",
      "(10, 5)\n",
      "(10, 12)\n",
      "###################################\n",
      "BMI_bmi_reads.fasta.fa.report\n",
      "--------------------------------\n",
      "['sample tax :Homo', 'sample tax :Rothia', 'sample tax :Streptococcus', 'sample tax :Veillonella', 'sample tax :Prevotella', 'sample tax :Fusobacterium', ... ]\n",
      "['truth tax :Peptostreptococcus', 'truth tax :Streptococcus', 'truth tax :Porphyromonas', 'truth tax :Mycoplasma', 'truth tax :Veillonella', 'truth tax :Rothia', 'truth tax :Fusobacterium', 'truth tax :Prevotella', ... ]\n",
      "TP=5-- FN=3\n",
      "precision=0.833333333333-- recall=0.625-- F1=0.714285714286\n",
      "(6, 5)\n",
      "(8, 12)\n",
      "###################################\n",
      "Carma_eval_carma.fasta.fa.report\n",
      "--------------------------------\n",
      "['sample tax :Vibrio', 'sample tax :Aliivibrio', 'sample tax :Shigella', 'sample tax :Escherichia', 'sample tax :Pseudomonas', 'sample tax :Colwellia', 'sample tax :Glaesserella', 'sample tax :Rhodopseudomonas', 'sample tax :Sinorhizobium', 'sample tax :Brucella', 'sample tax :Orientia', 'sample tax :Burkholderia', 'sample tax :Sulfurovum', 'sample tax :Helicobacter', 'sample tax :Bdellovibrio', 'sample tax :Staphylococcus', 'sample tax :Streptococcus', 'sample tax :Lachnoclostridium', 'sample tax :Cyanothece', 'sample tax :Synechococcus', 'sample tax :Mycobacteroides', 'sample tax :Chlamydia', ... ]\n",
      "['truth tax :Burkholderia', 'truth tax :Staphylococcus', 'truth tax :Vibrio', 'truth tax :Chlamydia', 'truth tax :Bdellovibrio', 'truth tax :Rhodopseudomonas', 'truth tax :Escherichia', 'truth tax :Synechococcus', 'truth tax :Brucella', 'truth tax :Shigella', 'truth tax :Streptococcus', 'truth tax :Mycobacterium', 'truth tax :Sinorhizobium', 'truth tax :Pseudomonas', 'truth tax :Colwellia', 'truth tax :Orientia', 'truth tax :Glaesserlla', 'truth tax :Helicobacter', 'truth tax :Sulfurovum', 'truth tax :Aliivibrio', 'truth tax :Lachnoclostridium', 'truth tax :Cyanothece', ... ]\n",
      "TP=20-- FN=2\n",
      "precision=0.909090909091-- recall=0.909090909091-- F1=0.909090909091\n",
      "(22, 5)\n",
      "(22, 12)\n",
      "###################################\n",
      "HMP_even_454_SRR072233.fa.report\n",
      "--------------------------------\n",
      "['sample tax :Deinococcus', 'sample tax :Staphylococcus', 'sample tax :Listeria', 'sample tax :Streptococcus', 'sample tax :Enterococcus', 'sample tax :Clostridium', 'sample tax :Cutibacterium', 'sample tax :Acinetobacter', 'sample tax :Neisseria', 'sample tax :Helicobacter', 'sample tax :Rhodobacter', 'sample tax :Bacteroides', ... ]\n",
      "['truth tax :Streptococcus', 'truth tax :Staphylococcus', 'truth tax :Rhodobacter', 'truth tax :Pseudomonas', 'truth tax :Acinetobacter', 'truth tax :Deinococcus', 'truth tax :Neisseria', 'truth tax :Enterococcus', 'truth tax :Bacillus', 'truth tax :Clostridium', 'truth tax :Lactobacillus', 'truth tax :Listeria', 'truth tax :Actinomyces', 'truth tax :Cutibacterium', 'truth tax :Methanobrevibacter', 'truth tax :Escherichia', 'truth tax :Helicobacter', 'truth tax :Bacteroides', 'truth tax :Candida', ... ]\n",
      "TP=12-- FN=7\n",
      "precision=1.0-- recall=0.631578947368-- F1=0.774193548387\n",
      "(12, 5)\n",
      "(19, 12)\n",
      "###################################\n",
      "HMP_even_illum_SRR172902.fa.report\n",
      "--------------------------------\n",
      "['sample tax :Deinococcus', 'sample tax :Staphylococcus', 'sample tax :Listeria', 'sample tax :Streptococcus', 'sample tax :Enterococcus', 'sample tax :Clostridium', 'sample tax :Cutibacterium', 'sample tax :Acinetobacter', 'sample tax :Rhodobacter', 'sample tax :Helicobacter', 'sample tax :Neisseria', 'sample tax :Bacteroides', ... ]\n",
      "['truth tax :Streptococcus', 'truth tax :Staphylococcus', 'truth tax :Rhodobacter', 'truth tax :Pseudomonas', 'truth tax :Acinetobacter', 'truth tax :Deinococcus', 'truth tax :Neisseria', 'truth tax :Enterococcus', 'truth tax :Bacillus', 'truth tax :Clostridium', 'truth tax :Lactobacillus', 'truth tax :Listeria', 'truth tax :Actinomyces', 'truth tax :Cutibacterium', 'truth tax :Methanobrevibacter', 'truth tax :Escherichia', 'truth tax :Helicobacter', 'truth tax :Bacteroides', 'truth tax :Candida', ... ]\n",
      "TP=12-- FN=7\n",
      "precision=1.0-- recall=0.631578947368-- F1=0.774193548387\n",
      "(12, 5)\n",
      "(19, 12)\n",
      "###################################\n",
      "Huttenhower_HC1.fasta.fa.report\n",
      "--------------------------------\n",
      "['sample tax :Pantoea', 'sample tax :Klebsiella', 'sample tax :Serratia', 'sample tax :Vibrio', 'sample tax :Shewanella', 'sample tax :Xanthomonas', 'sample tax :Azotobacter', 'sample tax :Halomonas', 'sample tax :Burkholderia', 'sample tax :Ralstonia', 'sample tax :Delftia', 'sample tax :Acidovorax', 'sample tax :Dechloromonas', 'sample tax :Methylorubrum', 'sample tax :Rhodospirillum', 'sample tax :Sphingomonas', 'sample tax :Rhodobacter', 'sample tax :Phenylobacterium', 'sample tax :Desulfobacterium', 'sample tax :Helicobacter', 'sample tax :Bacillus', 'sample tax :Lactobacillus', 'sample tax :Caldicellulosiruptor', 'sample tax :Clostridioides', 'sample tax :Mycobacterium', 'sample tax :Saccharopolyspora', 'sample tax :Kribbella', 'sample tax :Kineococcus', 'sample tax :Chloroflexus', 'sample tax :Sphaerobacter', 'sample tax :Gloeobacter', 'sample tax :Chitinophaga', 'sample tax :Flavobacterium', 'sample tax :Pseudopedobacter', 'sample tax :Sediminispirochaeta', 'sample tax :Leptospira', 'sample tax :Thermococcus', 'sample tax :Methanosarcina', 'sample tax :Pyrobaculum', ... ]\n",
      "['truth tax :Vibrio', 'truth tax :Bacillus', 'truth tax :Thermococcus', 'truth tax :Helicobacter', 'truth tax :Shewanella', 'truth tax :Lactobacillus', 'truth tax :Pantoea', 'truth tax :Caldicellulosiruptor', 'truth tax :Burkholderia', 'truth tax :Pyrobaculum', 'truth tax :Chloroflexus', 'truth tax :Methanosarcina', 'truth tax :Streptococcus', 'truth tax :Mycobacterium', 'truth tax :Listeria', 'truth tax :Corynebacterium', 'truth tax :Saccharopolyspora', 'truth tax :Sphaerobacter', 'truth tax :Deinococcus', 'truth tax :Staphylococcus', 'truth tax :Mycoplasma', 'truth tax :Ureaplasma', 'truth tax :Micrococcus', 'truth tax :Methanothermus', 'truth tax :Nitrosococcus', 'truth tax :Pelodictyon', 'truth tax :Desulfobacterium', 'truth tax :Methanosphaera', 'truth tax :Thermosipho', 'truth tax :Halomonas', 'truth tax :Acidovorax', 'truth tax :Sphingomonas', 'truth tax :Chlorobium', 'truth tax :Rhodospirillum', 'truth tax :Rhodobacter', 'truth tax :Capnocytophaga', 'truth tax :Nitrosomonas', 'truth tax :Gloeobacter', 'truth tax :Kineococcus', 'truth tax :Exiguobacterium', 'truth tax :Nitrobacter', 'truth tax :Moorella', 'truth tax :Ralstonia', 'truth tax :Syntrophomonas', 'truth tax :Desulfurobacterium', 'truth tax :Borreliella', 'truth tax :Macrococcus', 'truth tax :Prevotella', 'truth tax :Dechloromonas', 'truth tax :Chitinophaga', 'truth tax :Porphyromonas', 'truth tax :Delftia', 'truth tax :Pseudoxanthomonas', 'truth tax :Rickettsia', 'truth tax :Anaplasma', 'truth tax :Desulfotalea', 'truth tax :Haemophilus', 'truth tax :Kribbella', 'truth tax :Oceanobacillus', 'truth tax :Edwardsiella', 'truth tax :Serratia', 'truth tax :Klebsiella', 'truth tax :Methylococcus', 'truth tax :Methylobacterium', 'truth tax :Methanocaldococcus', 'truth tax :Azotobacter', 'truth tax :Xanthomonas', 'truth tax :Thermus', 'truth tax :Flavobacterium', 'truth tax :Leptospira', 'truth tax :Herminiimonas', 'truth tax :Granulibacter', 'truth tax :Treponema', 'truth tax :Clostridiodes', 'truth tax :Pseudopedobacter', 'truth tax :Sediminispirochaeta', 'truth tax :Phenylobacterium', ... ]\n",
      "TP=37-- FN=40\n",
      "precision=0.948717948718-- recall=0.480519480519-- F1=0.637931034483\n",
      "(39, 5)\n",
      "(77, 12)\n",
      "###################################\n",
      "Huttenhower_HC2.fasta.fa.report\n",
      "--------------------------------\n",
      "['sample tax :Citrobacter', 'sample tax :Photorhabdus', 'sample tax :Sodalis', 'sample tax :Pseudomonas', 'sample tax :Stenotrophomonas', 'sample tax :Aeromonas', 'sample tax :Nitrosococcus', 'sample tax :Pseudoalteromonas', 'sample tax :Burkholderia', 'sample tax :Paraburkholderia', 'sample tax :Mycetohabitans', 'sample tax :Bordetella', 'sample tax :Polaromonas', 'sample tax :Agrobacterium', 'sample tax :Methylorubrum', 'sample tax :Rhodopseudomonas', 'sample tax :Starkeya', 'sample tax :Caulobacter', 'sample tax :Gluconacetobacter', 'sample tax :Myxococcus', 'sample tax :Syntrophobacter', 'sample tax :Desulfovibrio', 'sample tax :Geobacter', 'sample tax :Bacillus', 'sample tax :Brevibacillus', 'sample tax :Clostridium', 'sample tax :Desulfofarcimen', 'sample tax :Eubacterium', 'sample tax :Corynebacterium', 'sample tax :Intrasporangium', 'sample tax :Thermomonospora', 'sample tax :Acaryochloris', 'sample tax :Mycoplasma', 'sample tax :Thermus', 'sample tax :Bacteroides', 'sample tax :Robiginitalea', 'sample tax :Fibrobacter', 'sample tax :Opitutus', 'sample tax :Thermococcus', 'sample tax :Methanosarcina', ... ]\n",
      "['truth tax :Mycoplasma', 'truth tax :Bacillus', 'truth tax :Pseudomonas', 'truth tax :Borrelia', 'truth tax :Corynebacterium', 'truth tax :Clostridium', 'truth tax :Bacteroides', 'truth tax :Citrobacter', 'truth tax :Thermus', 'truth tax :Paraburkholderia', 'truth tax :Thermococcus', 'truth tax :Burkholderia', 'truth tax :Rickettsia', 'truth tax :Streptococcus', 'truth tax :Enterococcus', 'truth tax :Lactococcus', 'truth tax :Nitrosococcus', 'truth tax :Desulfotomaculum', 'truth tax :Lactobacillus', 'truth tax :Synechococcus', 'truth tax :Bifidobacterium', 'truth tax :Eubacterium', 'truth tax :Thermoanaerobacter', 'truth tax :Rhodopseudomonas', 'truth tax :Thermomonospora', 'truth tax :Methanosarcina', 'truth tax :Hydrogenobacter', 'truth tax :Pyrococcus', 'truth tax :Xylella', 'truth tax :Desulfovibrio', 'truth tax :Thermosipho', 'truth tax :Fervidobacterium', 'truth tax :Fibrobacter', 'truth tax :Geobacter', 'truth tax :Petrotoga', 'truth tax :Photorhabdus', 'truth tax :Syntrophobacter', 'truth tax :Bartonella', 'truth tax :Anaplasma', 'truth tax :Rothia', 'truth tax :Polynucleobacter', 'truth tax :Polaromonas', 'truth tax :Pseudoalteromonas', 'truth tax :Intrasporangium', 'truth tax :Brevibacillus', 'truth tax :Aeropyrum', 'truth tax :Dehalococcoides', 'truth tax :Haemophilus', 'truth tax :Aeromonas', 'truth tax :Sodalis', 'truth tax :Shigella', 'truth tax :Gluconacetobacter', 'truth tax :Bordetella', 'truth tax :Carboxydothermus', 'truth tax :Neisseria', 'truth tax :Finegoldia', 'truth tax :Starkeya', 'truth tax :Acaryochloris', 'truth tax :Opitutus', 'truth tax :Methylobacterium', 'truth tax :Methylobacillus', 'truth tax :Agrobacterium', 'truth tax :Nautilia', 'truth tax :Pelotomaculum', 'truth tax :Francisella', 'truth tax :Brucella', 'truth tax :Sulfurimonas', 'truth tax :Robiginitalea', 'truth tax :Natranaerobius', 'truth tax :Desulfurispirillum', 'truth tax :Caulobacter', 'truth tax :Myxococcus', 'truth tax :Pseudothermotoga', 'truth tax :Stenotrophomonas', ... ]\n",
      "TP=37-- FN=37\n",
      "precision=0.925-- recall=0.5-- F1=0.649122807018\n",
      "(40, 5)\n",
      "(74, 12)\n",
      "###################################\n",
      "Huttenhower_LC1.fasta.fa.report\n",
      "--------------------------------\n",
      "['sample tax :Moorella', 'sample tax :Caldicellulosiruptor', 'sample tax :Lactobacillus', 'sample tax :Micrococcus', 'sample tax :Sphaerobacter', 'sample tax :Vibrio', 'sample tax :Edwardsiella', 'sample tax :Shewanella', 'sample tax :Rhodobacter', 'sample tax :Rhodospirillum', 'sample tax :Methylorubrum', 'sample tax :Delftia', 'sample tax :Chlorobium', 'sample tax :Chitinophaga', 'sample tax :Methanosarcina', ... ]\n",
      "['truth tax :Caldicellulosiruptor', 'truth tax :Vibrio', 'truth tax :Gloeobacter', 'truth tax :Micrococcus', 'truth tax :Streptococcus', 'truth tax :Lactobacillus', 'truth tax :Rhodobacter', 'truth tax :Saccharopolyspora', 'truth tax :Sphaerobacter', 'truth tax :Edwardsiella', 'truth tax :Methanothermus', 'truth tax :Methanosarcina', 'truth tax :Thermococcus', 'truth tax :Methanosphaera', 'truth tax :Rhodospirillum', 'truth tax :Moorella', 'truth tax :Pantoea', 'truth tax :Chitinophaga', 'truth tax :Delftia', 'truth tax :Shewanella', 'truth tax :Chlorobium', 'truth tax :Chloroflexus', 'truth tax :Methylobacterium', ... ]\n",
      "TP=14-- FN=9\n",
      "precision=0.933333333333-- recall=0.608695652174-- F1=0.736842105263\n",
      "(15, 5)\n",
      "(23, 12)\n",
      "###################################\n",
      "Huttenhower_LC2.fasta.fa.report\n",
      "--------------------------------\n",
      "['sample tax :Nitrobacter', 'sample tax :Rickettsia', 'sample tax :Nitrosococcus', 'sample tax :Shewanella', 'sample tax :Methylococcus', 'sample tax :Ralstonia', 'sample tax :Leptospira', 'sample tax :Treponema', 'sample tax :Pseudopedobacter', 'sample tax :Capnocytophaga', 'sample tax :Porphyromonas', 'sample tax :Clostridioides', 'sample tax :Listeria', 'sample tax :Mycobacterium', 'sample tax :Desulfurobacterium', 'sample tax :Thermosipho', 'sample tax :Methanosarcina', ... ]\n",
      "['truth tax :Rickettsia', 'truth tax :Porphyromonas', 'truth tax :Nitrobacter', 'truth tax :Nitrosomonas', 'truth tax :Capnocytophaga', 'truth tax :Pelodictyon', 'truth tax :Leptospira', 'truth tax :Nitrosococcus', 'truth tax :Bacillus', 'truth tax :Listeria', 'truth tax :Mycobacterium', 'truth tax :Ureaplasma', 'truth tax :Methylococcus', 'truth tax :Methanosarcina', 'truth tax :Pyrobaculum', 'truth tax :Thermosipho', 'truth tax :Treponema', 'truth tax :Ralstonia', 'truth tax :Desulfurobacterium', 'truth tax :Kribbella', 'truth tax :Vibrio', 'truth tax :Granulibacter', 'truth tax :Clostridiodes', 'truth tax :Pseudopedobacter', 'truth tax :Shewanella', ... ]\n",
      "TP=16-- FN=9\n",
      "precision=0.941176470588-- recall=0.64-- F1=0.761904761905\n",
      "(17, 5)\n",
      "(25, 12)\n",
      "###################################\n",
      "Huttenhower_LC3.fasta.fa.report\n",
      "--------------------------------\n",
      "['sample tax :Haemophilus', 'sample tax :Serratia', 'sample tax :Azotobacter', 'sample tax :Vibrio', 'sample tax :Helicobacter', 'sample tax :Burkholderia', 'sample tax :Syntrophomonas', 'sample tax :Macrococcus', 'sample tax :Bacillus', 'sample tax :Lactobacillus', 'sample tax :Mycobacterium', ... ]\n",
      "['truth tax :Helicobacter', 'truth tax :Burkholderia', 'truth tax :Lactobacillus', 'truth tax :Bacillus', 'truth tax :Pantoea', 'truth tax :Sediminispirochaeta', 'truth tax :Deinococcus', 'truth tax :Syntrophomonas', 'truth tax :Anaplasma', 'truth tax :Mycobacterium', 'truth tax :Mycoplasma', 'truth tax :Thermococcus', 'truth tax :Halomonas', 'truth tax :Sphingomonas', 'truth tax :Haemophilus', 'truth tax :Macrococcus', 'truth tax :Vibrio', 'truth tax :Serratia', 'truth tax :Azotobacter', 'truth tax :Flavobacterium', ... ]\n",
      "TP=11-- FN=9\n",
      "precision=1.0-- recall=0.55-- F1=0.709677419355\n",
      "(11, 5)\n",
      "(20, 12)\n",
      "###################################\n",
      "Huttenhower_LC4.fasta.fa.report\n",
      "--------------------------------\n",
      "['sample tax :Phenylobacterium', 'sample tax :Helicobacter', 'sample tax :Herminiimonas', 'sample tax :Xanthomonas', 'sample tax :Shewanella', ... ]\n",
      "['truth tax :Staphylococcus', 'truth tax :Streptococcus', 'truth tax :Bacillus', 'truth tax :Corynebacterium', 'truth tax :Helicobacter', 'truth tax :Thermus', 'truth tax :Thermococcus', 'truth tax :Pyrobaculum', 'truth tax :Desulfobacterium', 'truth tax :Acidovorax', 'truth tax :Xanthomonas', 'truth tax :Kineococcus', 'truth tax :Exiguobacterium', 'truth tax :Borreliella', 'truth tax :Dechloromonas', 'truth tax :Klebsiella', 'truth tax :Prevotella', 'truth tax :Pseudoxanthomonas', 'truth tax :Desulfotalea', 'truth tax :Oceanobacillus', 'truth tax :Chloroflexus', 'truth tax :Methanocaldococcus', 'truth tax :Phenylobacterium', 'truth tax :Herminiimonas', 'truth tax :Shewanella', ... ]\n",
      "TP=5-- FN=20\n",
      "precision=1.0-- recall=0.2-- F1=0.333333333333\n",
      "(5, 5)\n",
      "(25, 12)\n",
      "###################################\n",
      "Huttenhower_LC5.fasta.fa.report\n",
      "--------------------------------\n",
      "['sample tax :Brachyspira', 'sample tax :Ruminiclostridium', 'sample tax :Alkaliphilus', 'sample tax :Corynebacterium', 'sample tax :Trichormus', 'sample tax :Dickeya', 'sample tax :Burkholderia', 'sample tax :Methylibium', 'sample tax :Campylobacter', 'sample tax :Brucella', 'sample tax :Thermotoga', ... ]\n",
      "['truth tax :Campylobacter', 'truth tax :Thermotoga', 'truth tax :Alkaliphilus', 'truth tax :Thermoanaerobacter', 'truth tax :Mycobacterium', 'truth tax :Corynebacterium', 'truth tax :Staphylothermus', 'truth tax :Lactobacillus', 'truth tax :Brachyspira', 'truth tax :Burkholderia', 'truth tax :Trichormus', 'truth tax :Eggerthella', 'truth tax :Beutenbergia', 'truth tax :Selenomonas', 'truth tax :Anoxybacillus', 'truth tax :Nanoarchaeum', 'truth tax :Methanocaldococcus', 'truth tax :Pseudomonas', 'truth tax :Brucella', 'truth tax :Dickeya', 'truth tax :Methylibium', 'truth tax :Aciduliprofundum', 'truth tax :Ruminiclostridium', ... ]\n",
      "TP=11-- FN=12\n",
      "precision=1.0-- recall=0.478260869565-- F1=0.647058823529\n",
      "(11, 5)\n",
      "(23, 12)\n",
      "###################################\n",
      "Huttenhower_LC6.fasta.fa.report\n",
      "--------------------------------\n",
      "['sample tax :Heliobacterium', 'sample tax :Streptococcus', 'sample tax :Bifidobacterium', 'sample tax :Streptomyces', 'sample tax :Frankia', 'sample tax :Pasteurella', 'sample tax :Anaplasma', 'sample tax :Brucella', 'sample tax :Alicycliphilus', 'sample tax :Verminephrobacter', 'sample tax :Leptospira', ... ]\n",
      "['truth tax :Streptomyces', 'truth tax :Chlorobium', 'truth tax :Synechococcus', 'truth tax :Leptospira', 'truth tax :Streptococcus', 'truth tax :Bifidobacterium', 'truth tax :Brucella', 'truth tax :Frankia', 'truth tax :Pseudomonas', 'truth tax :Mycoplasma', 'truth tax :Methanobrevibacter', 'truth tax :Heliobacterium', 'truth tax :Pasteurella', 'truth tax :Thermoanaerobacterium', 'truth tax :Acidobacterium', 'truth tax :Stenotrophomonas', 'truth tax :Thermosphaera', 'truth tax :Anaplasma', 'truth tax :Cellulophaga', 'truth tax :Pectobacterium', 'truth tax :Bartonella', 'truth tax :Alicycliphilus', 'truth tax :Methanolacinia', 'truth tax :Verminephrobacter', ... ]\n",
      "TP=11-- FN=13\n",
      "precision=1.0-- recall=0.458333333333-- F1=0.628571428571\n",
      "(11, 5)\n",
      "(24, 12)\n",
      "###################################\n",
      "Huttenhower_LC7.fasta.fa.report\n",
      "--------------------------------\n",
      "['sample tax :Cytophaga', 'sample tax :Actinobacillus', 'sample tax :Nitratifractor', 'sample tax :Mycobacterium', 'sample tax :Pseudarthrobacter', 'sample tax :Listeria', 'sample tax :Mycoplasma', 'sample tax :Fusobacterium', ... ]\n",
      "['truth tax :Brucella', 'truth tax :Actinobacillus', 'truth tax :Leuconostoc', 'truth tax :Streptococcus', 'truth tax :Listeria', 'truth tax :Coxiella', 'truth tax :Mycobacterium', 'truth tax :Mycoplasma', 'truth tax :Methanohalophilus', 'truth tax :Thermotoga', 'truth tax :Gardnerella', 'truth tax :Brevundimonas', 'truth tax :Desulfohalobium', 'truth tax :Alcanivorax', 'truth tax :Thermanaerovibrio', 'truth tax :Rickettsia', 'truth tax :Cupriavidus', 'truth tax :Methylocella', 'truth tax :Geobacillus', 'truth tax :Fusobacterium', 'truth tax :Nitratifractor', 'truth tax :Leadbetterella', 'truth tax :Borreliella', 'truth tax :Cytophaga', 'truth tax :Pseudarthrobacter', ... ]\n",
      "TP=8-- FN=17\n",
      "precision=1.0-- recall=0.32-- F1=0.484848484848\n",
      "(8, 5)\n",
      "(25, 12)\n",
      "###################################\n",
      "Huttenhower_LC8.fasta.fa.report\n",
      "--------------------------------\n",
      "['sample tax :Methylorubrum', 'sample tax :Brucella', 'sample tax :Variovorax', 'sample tax :Burkholderia', 'sample tax :Nitrosomonas', 'sample tax :Aggregatibacter', 'sample tax :Stigmatella', 'sample tax :Gordonia', 'sample tax :Arcanobacterium', 'sample tax :Thermoanaerobacter', 'sample tax :Streptococcus', ... ]\n",
      "['truth tax :Shewanella', 'truth tax :Aggregatibacter', 'truth tax :Nitrosomonas', 'truth tax :Stigmatella', 'truth tax :Streptococcus', 'truth tax :Clostridium', 'truth tax :Lactobacillus', 'truth tax :Thermoanaerobacter', 'truth tax :Methylobacterium', 'truth tax :Streptomyces', 'truth tax :Gordonia', 'truth tax :Methanospirillum', 'truth tax :Methanosaeta', 'truth tax :Arcanobacterium', 'truth tax :Neisseria', 'truth tax :Burkholderia', 'truth tax :Variovorax', 'truth tax :Rubrobacter', 'truth tax :Roseiflexus', 'truth tax :Shigella', 'truth tax :Brucella', 'truth tax :Haemophilus', 'truth tax :Dichelobacter', ... ]\n",
      "TP=10-- FN=13\n",
      "precision=0.909090909091-- recall=0.434782608696-- F1=0.588235294118\n",
      "(11, 5)\n",
      "(23, 12)\n",
      "###################################\n",
      "JGI_SRR033548.fa.report\n",
      "--------------------------------\n",
      "['sample tax :Lactobacillus', 'sample tax :Lactococcus', 'sample tax :Acidothermus', 'sample tax :Myxococcus', 'sample tax :Shewanella', 'sample tax :Halobacterium', ... ]\n",
      "['truth tax :Lactococcus', 'truth tax :Lactobacillus', 'truth tax :Saccharomyces', 'truth tax :Pediococcus', 'truth tax :Halobacterium', 'truth tax :Myxococcus', 'truth tax :Acidothermus', 'truth tax :Shewanella', ... ]\n",
      "TP=6-- FN=2\n",
      "precision=1.0-- recall=0.75-- F1=0.857142857143\n",
      "(6, 5)\n",
      "(8, 12)\n",
      "###################################\n",
      "JGI_SRR033549.fa.report\n",
      "--------------------------------\n",
      "['sample tax :Lactobacillus', 'sample tax :Lactococcus', 'sample tax :Acidothermus', 'sample tax :Myxococcus', 'sample tax :Shewanella', 'sample tax :Halobacterium', ... ]\n",
      "['truth tax :Lactococcus', 'truth tax :Lactobacillus', 'truth tax :Saccharomyces', 'truth tax :Pediococcus', 'truth tax :Halobacterium', 'truth tax :Myxococcus', 'truth tax :Acidothermus', 'truth tax :Shewanella', ... ]\n",
      "TP=6-- FN=2\n",
      "precision=1.0-- recall=0.75-- F1=0.857142857143\n",
      "(6, 5)\n",
      "(8, 12)\n",
      "###################################\n",
      "Raiphy_eval_RAIphy.fasta.fa.report\n",
      "--------------------------------\n",
      "['sample tax :Psychrobacter', 'sample tax :Pseudomonas', 'sample tax :Yersinia', 'sample tax :Francisella', 'sample tax :Xanthomonas', 'sample tax :Histophilus', 'sample tax :Shewanella', 'sample tax :Vibrio', 'sample tax :Bradyrhizobium', 'sample tax :Bartonella', 'sample tax :Methylobacterium', 'sample tax :Brucella', 'sample tax :Wolbachia', 'sample tax :Ehrlichia', 'sample tax :Rickettsia', 'sample tax :Anaeromyxobacter', 'sample tax :Geobacter', 'sample tax :Helicobacter', 'sample tax :Campylobacter', 'sample tax :Burkholderia', 'sample tax :Cupriavidus', 'sample tax :Bordetella', 'sample tax :Bacillus', 'sample tax :Listeria', 'sample tax :Staphylococcus', 'sample tax :Lactobacillus', 'sample tax :Streptococcus', 'sample tax :Clostridium', 'sample tax :Caldanaerobacter', 'sample tax :Mycobacterium', 'sample tax :Corynebacterium', 'sample tax :Bifidobacterium', 'sample tax :Frankia', 'sample tax :Streptomyces', 'sample tax :Paenarthrobacter', 'sample tax :Synechococcus', 'sample tax :Cyanothece', 'sample tax :Dehalococcoides', 'sample tax :Chloroflexus', 'sample tax :Mycoplasma', 'sample tax :Candidatus Phytoplasma', 'sample tax :Leptospira', 'sample tax :Borreliella', 'sample tax :Chlorobium', 'sample tax :Bacteroides', 'sample tax :Thermotoga', 'sample tax :Chlamydia', 'sample tax :Pyrococcus', 'sample tax :Methanococcus', 'sample tax :Methanosarcina', 'sample tax :Sulfolobus', ... ]\n",
      "['truth tax :Rickettsia', 'truth tax :Chlamydia', 'truth tax :Bacteroides', 'truth tax :Bartonella', 'truth tax :Ehrlichia', 'truth tax :Wolbachia', 'truth tax :Chlorobium', 'truth tax :Chloroflexus', 'truth tax :Synechococcus', 'truth tax :Vibrio', 'truth tax :Staphylococcus', 'truth tax :Streptococcus', 'truth tax :Bacillus', 'truth tax :Clostridium', 'truth tax :Lactobacillus', 'truth tax :Listeria', 'truth tax :Bifidobacterium', 'truth tax :Corynebacterium', 'truth tax :Mycobacterium', 'truth tax :Frankia', 'truth tax :Streptomyces', 'truth tax :Mycoplasma', 'truth tax :Yersinia', 'truth tax :Methanococcus', 'truth tax :Methanosarcina', 'truth tax :Pyrococcus', 'truth tax :Pyrobaculum', 'truth tax :Sulfolobus', 'truth tax :Thermotoga', 'truth tax :Shigella', 'truth tax :Geobacter', 'truth tax :Bordetella', 'truth tax :Psychrobacter', 'truth tax :Burkholderia', 'truth tax :Candidatus Phytoplasma', 'truth tax :Methylobacterium', 'truth tax :Dehalococcoides', 'truth tax :Borreliella', 'truth tax :Bradyrhizobium', 'truth tax :Xanthomonas', 'truth tax :Pseudomonas', 'truth tax :Cupriavidus', 'truth tax :Francisella', 'truth tax :Anaeromyxobacter', 'truth tax :Brucella', 'truth tax :Helicobacter', 'truth tax :Campylobacter', 'truth tax :Leptospira', 'truth tax :Histophilus', 'truth tax :Caldanaerobacter', 'truth tax :Paenarthrobacter', 'truth tax :Shewanella', 'truth tax :Cyanothece', ... ]\n",
      "TP=51-- FN=2\n",
      "precision=1.0-- recall=0.962264150943-- F1=0.980769230769\n",
      "(51, 5)\n",
      "(53, 12)\n",
      "###################################\n",
      "UnAmbiguouslyMapped_ds.7.fa.report\n",
      "--------------------------------\n",
      "['sample tax :Providencia', 'sample tax :Erwinia', 'sample tax :Vibrio', 'sample tax :Xanthomonas', 'sample tax :Shewanella', 'sample tax :Methylobacterium', 'sample tax :Bordetella', 'sample tax :Polaromonas', 'sample tax :Neisseria', 'sample tax :Helicobacter', 'sample tax :Leuconostoc', 'sample tax :Enterococcus', 'sample tax :Carnobacterium', 'sample tax :Paenibacillus', 'sample tax :Mycobacterium', 'sample tax :Gordonia', 'sample tax :Bifidobacterium', 'sample tax :Arthrospira', 'sample tax :Cyanothece', 'sample tax :Synechococcus', 'sample tax :Deinococcus', 'sample tax :Porphyromonas', 'sample tax :Borreliella', ... ]\n",
      "['truth tax :Bifidobacterium', 'truth tax :Vibrio', 'truth tax :Leuconostoc', 'truth tax :Mycobacterium', 'truth tax :Xanthomonas', 'truth tax :Gordonia', 'truth tax :Carnobacterium', 'truth tax :Paenibacillus', 'truth tax :Ruminococcus', 'truth tax :Porphyromonas', 'truth tax :Neisseria', 'truth tax :Helicobacter', 'truth tax :Bordetella', 'truth tax :Enterococcus', 'truth tax :Providencia', 'truth tax :Arthrospira', 'truth tax :Methylobacterium', 'truth tax :Erwinia', 'truth tax :Cyanothece', 'truth tax :Shewanella', 'truth tax :Polaromonas', 'truth tax :Borreliella', 'truth tax :Burkholderia', 'truth tax :Deinococcus', 'truth tax :Synechococcus', 'truth tax :Photobacterium', 'truth tax :Agrobacterium', 'truth tax :Borrelia', 'truth tax :Mycoplasma', 'truth tax :Halalkalicoccus', 'truth tax :Acidiphilium', 'truth tax :Macrococcus', 'truth tax :Nostoc', 'truth tax :Desulfovibrio', 'truth tax :Pseudodesulfovibrio', 'truth tax :Runella', 'truth tax :Azospirillum', 'truth tax :Streptomyces', 'truth tax :Chlamydia', 'truth tax :Acidithiobacillus', 'truth tax :Clostridium', 'truth tax :Acetobacter', 'truth tax :Rothia', 'truth tax :Ruegeria', 'truth tax :Pyrococcus', 'truth tax :Treponema', 'truth tax :Haloarcula', 'truth tax :Candidatus Azobacteroides', 'truth tax :Komagataeibacter', 'truth tax :Bacillus', 'truth tax :Asticcacaulis', 'truth tax :Alicyclobacillus', 'truth tax :Campylobacter', 'truth tax :Halopiger', 'truth tax :Nitrobacter', 'truth tax :Chelativorans', 'truth tax :Sodalis', 'truth tax :Streptococcus', 'truth tax :Nitrosococcus', 'truth tax :Thermococcus', 'truth tax :Eubacterium', 'truth tax :Novosphingobium', 'truth tax :Thermus', 'truth tax :Butyrivibrio', 'truth tax :Rickettsia', 'truth tax :Arthrobacter', 'truth tax :Yersinia', 'truth tax :Methylovorus', 'truth tax :Ralstonia', 'truth tax :Cupriavidus', 'truth tax :Exiguobacterium', 'truth tax :Beijerinckia', 'truth tax :Paraburkholderia', 'truth tax :Octadecabacter', 'truth tax :Marinomonas', 'truth tax :Archaeoglobus', 'truth tax :Spirochaeta', 'truth tax :Sediminispirochaeta', 'truth tax :Natrialba', 'truth tax :Lawsonia', 'truth tax :Geobacillus', 'truth tax :Halobacterium', 'truth tax :Geobacter', 'truth tax :Listeria', 'truth tax :Pseudarthrobacter', 'truth tax :Methanocaldococcus', 'truth tax :Aromatoleum', 'truth tax :Phaeobacter', 'truth tax :Leptospira', 'truth tax :Lactobacillus', 'truth tax :Bartonella', 'truth tax :Paracoccus', 'truth tax :Natrinema', 'truth tax :Glaciecola', 'truth tax :Paenarthrobacter', 'truth tax :Sebaldella', 'truth tax :Thermomicrobium', 'truth tax :Pusillimonas', 'truth tax :Pelagibacterium', 'truth tax :Ammonifex', ... ]\n",
      "TP=23-- FN=313\n",
      "precision=1.0-- recall=0.0684523809524-- F1=0.128133704735\n",
      "(23, 5)\n",
      "(336, 12)\n",
      "###################################\n",
      "UnAmbiguouslyMapped_ds.buccal.fa.report\n",
      "--------------------------------\n",
      "['sample tax :Streptococcus', 'sample tax :Veillonella', 'sample tax :Haemophilus', 'sample tax :Neisseria', ... ]\n",
      "['truth tax :Streptococcus', 'truth tax :Haemophilus', 'truth tax :Neisseria', 'truth tax :Veillonella', ... ]\n",
      "TP=4-- FN=0\n",
      "precision=1.0-- recall=1.0-- F1=1.0\n",
      "(4, 5)\n",
      "(4, 12)\n",
      "###################################\n",
      "UnAmbiguouslyMapped_ds.cityparks.fa.report\n",
      "--------------------------------\n",
      "['sample tax :Pseudomonas', 'sample tax :Salmonella', 'sample tax :Escherichia', 'sample tax :Alteromonas', 'sample tax :Stenotrophomonas', 'sample tax :Candidatus Puniceispirillum', 'sample tax :Polymorphum', 'sample tax :Rhodopseudomonas', 'sample tax :Rhizobium', 'sample tax :Caulobacter', 'sample tax :Anaplasma', 'sample tax :Myxococcus', 'sample tax :Sorangium', 'sample tax :Helicobacter', 'sample tax :Burkholderia', 'sample tax :Bacteroides', 'sample tax :Prevotella', 'sample tax :Parabacteroides', 'sample tax :Flavobacterium', 'sample tax :Cellulophaga', 'sample tax :Zunongwangia', 'sample tax :Cyclobacterium', 'sample tax :Dyadobacter', 'sample tax :Pedobacter', 'sample tax :Pseudopedobacter', 'sample tax :Salinibacter', 'sample tax :Haliscomenobacter', 'sample tax :Nocardia', 'sample tax :Rhodococcus', 'sample tax :Mycolicibacterium', 'sample tax :Clavibacter', 'sample tax :Streptomyces', 'sample tax :Frankia', 'sample tax :Streptosporangium', 'sample tax :Catenulispora', 'sample tax :Planctopirus', 'sample tax :Rubinisphaera', 'sample tax :Rhodopirellula', 'sample tax :Isosphaera', 'sample tax :Singulisphaera', 'sample tax :Granulicella', 'sample tax :Candidatus Koribacter', 'sample tax :Candidatus Solibacter', ... ]\n",
      "['truth tax :Pseudomonas', 'truth tax :Bacteroides', 'truth tax :Granulicella', 'truth tax :Helicobacter', 'truth tax :Clavibacter', 'truth tax :Mycobacterium', 'truth tax :Nocardia', 'truth tax :Rhodococcus', 'truth tax :Frankia', 'truth tax :Streptomyces', 'truth tax :Streptosporangium', 'truth tax :Haliscomenobacter', 'truth tax :Alteromonas', 'truth tax :Flavobacterium', 'truth tax :Burkholderia', 'truth tax :Variovorax', 'truth tax :Sorangium', 'truth tax :Stenotrophomonas', 'truth tax :Cyclobacterium', 'truth tax :Pedobacter', 'truth tax :Rhizobium', 'truth tax :Cellulophaga', 'truth tax :Escherichia', 'truth tax :Dyadobacter', 'truth tax :Myxococcus', 'truth tax :Salinibacter', 'truth tax :Salmonella', 'truth tax :Anaplasma', 'truth tax :Isosphaera', 'truth tax :Rhodopirellula', 'truth tax :Candidatus Solibacter', 'truth tax :Parabacteroides', 'truth tax :Catenulispora', 'truth tax :Zunongwangia', 'truth tax :Singulisphaera', 'truth tax :Candidatus Koribacter', 'truth tax :Candidatus Puniceispirillum', 'truth tax :Prevotella', 'truth tax :Caulobacter', 'truth tax :Polymorphum', 'truth tax :Planctopirus', 'truth tax :Pseudopedobacter', 'truth tax :Rubinisphaera', 'truth tax :Rhodopseudomonas', ... ]\n",
      "TP=42-- FN=2\n",
      "precision=0.976744186047-- recall=0.954545454545-- F1=0.965517241379\n",
      "(43, 5)\n",
      "(44, 12)\n",
      "###################################\n",
      "UnAmbiguouslyMapped_ds.gut.fa.report\n",
      "--------------------------------\n",
      "['sample tax :Streptococcus', 'sample tax :Enterococcus', 'sample tax :Lactobacillus', 'sample tax :Staphylococcus', 'sample tax :Listeria', 'sample tax :Bacillus', 'sample tax :Clostridium', 'sample tax :Cutibacterium', 'sample tax :Deinococcus', 'sample tax :Acinetobacter', 'sample tax :Pseudomonas', 'sample tax :Escherichia', 'sample tax :Rhodobacter', 'sample tax :Neisseria', 'sample tax :Helicobacter', 'sample tax :Bacteroides', ... ]\n",
      "['truth tax :Streptococcus', 'truth tax :Staphylococcus', 'truth tax :Rhodobacter', 'truth tax :Pseudomonas', 'truth tax :Acinetobacter', 'truth tax :Deinococcus', 'truth tax :Neisseria', 'truth tax :Enterococcus', 'truth tax :Bacillus', 'truth tax :Clostridium', 'truth tax :Lactobacillus', 'truth tax :Listeria', 'truth tax :Actinomyces', 'truth tax :Cutibacterium', 'truth tax :Escherichia', 'truth tax :Helicobacter', 'truth tax :Bacteroides', ... ]\n",
      "TP=16-- FN=1\n",
      "precision=1.0-- recall=0.941176470588-- F1=0.969696969697\n",
      "(16, 5)\n",
      "(17, 12)\n",
      "###################################\n",
      "UnAmbiguouslyMapped_ds.hous1.fa.report\n",
      "--------------------------------\n",
      "['sample tax :Rhodobacter', 'sample tax :Pseudovibrio', 'sample tax :Octadecabacter', 'sample tax :Dinoroseobacter', 'sample tax :Jannaschia', 'sample tax :Roseobacter', 'sample tax :Phaeobacter', 'sample tax :Maricaulis', 'sample tax :Pseudomonas', 'sample tax :Azotobacter', 'sample tax :Lactobacillus', ... ]\n",
      "['truth tax :Lactobacillus', 'truth tax :Pseudomonas', 'truth tax :Rhodobacter', 'truth tax :Roseobacter', 'truth tax :Octadecabacter', 'truth tax :Maricaulis', 'truth tax :Azotobacter', 'truth tax :Jannaschia', 'truth tax :Pseudovibrio', 'truth tax :Phaeobacter', 'truth tax :Dinoroseobacter', ... ]\n",
      "TP=11-- FN=0\n",
      "precision=1.0-- recall=1.0-- F1=1.0\n",
      "(11, 5)\n",
      "(11, 12)\n",
      "###################################\n",
      "UnAmbiguouslyMapped_ds.hous2.fa.report\n",
      "--------------------------------\n",
      "['sample tax :Corynebacterium', 'sample tax :Cutibacterium', 'sample tax :Streptococcus', 'sample tax :Staphylococcus', 'sample tax :Acinetobacter', ... ]\n",
      "['truth tax :Corynebacterium', 'truth tax :Streptococcus', 'truth tax :Acinetobacter', 'truth tax :Staphylococcus', 'truth tax :Cutibacterium', ... ]\n",
      "TP=5-- FN=0\n",
      "precision=1.0-- recall=1.0-- F1=1.0\n",
      "(5, 5)\n",
      "(5, 12)\n",
      "###################################\n",
      "UnAmbiguouslyMapped_ds.nycsm.fa.report\n",
      "--------------------------------\n",
      "['sample tax :Enterobacter', 'sample tax :Klebsiella', 'sample tax :Escherichia', 'sample tax :Yersinia', 'sample tax :Pseudomonas', 'sample tax :Psychrobacter', 'sample tax :Shewanella', 'sample tax :Pseudoalteromonas', 'sample tax :Stenotrophomonas', 'sample tax :Bacillus', 'sample tax :Staphylococcus', 'sample tax :Enterococcus', 'sample tax :Streptococcus', ... ]\n",
      "['truth tax :Pseudomonas', 'truth tax :Enterobacter', 'truth tax :Klebsiella', 'truth tax :Shewanella', 'truth tax :Enterococcus', 'truth tax :Bacillus', 'truth tax :Streptococcus', 'truth tax :Psychrobacter', 'truth tax :Stenotrophomonas', 'truth tax :Pseudoalteromonas', 'truth tax :Escherichia', 'truth tax :Yersinia', 'truth tax :Staphylococcus', ... ]\n",
      "TP=13-- FN=0\n",
      "precision=1.0-- recall=1.0-- F1=1.0\n",
      "(13, 5)\n",
      "(13, 12)\n",
      "###################################\n",
      "UnAmbiguouslyMapped_ds.soil.fa.report\n",
      "--------------------------------\n",
      "['sample tax :Pseudomonas', 'sample tax :Salmonella', 'sample tax :Escherichia', 'sample tax :Alteromonas', 'sample tax :Stenotrophomonas', 'sample tax :Candidatus Puniceispirillum', 'sample tax :Polymorphum', 'sample tax :Rhodopseudomonas', 'sample tax :Rhizobium', 'sample tax :Caulobacter', 'sample tax :Anaplasma', 'sample tax :Myxococcus', 'sample tax :Sorangium', 'sample tax :Helicobacter', 'sample tax :Burkholderia', 'sample tax :Dyadobacter', 'sample tax :Fibrella', 'sample tax :Echinicola', 'sample tax :Cyclobacterium', 'sample tax :Bacteroides', 'sample tax :Parabacteroides', 'sample tax :Prevotella', 'sample tax :Flavobacterium', 'sample tax :Zunongwangia', 'sample tax :Cellulophaga', 'sample tax :Pedobacter', 'sample tax :Pseudopedobacter', 'sample tax :Salinibacter', 'sample tax :Haliscomenobacter', 'sample tax :Rhodococcus', 'sample tax :Nocardia', 'sample tax :Mycolicibacterium', 'sample tax :Streptomyces', 'sample tax :Clavibacter', 'sample tax :Frankia', 'sample tax :Catenulispora', 'sample tax :Streptosporangium', 'sample tax :Granulicella', 'sample tax :Candidatus Koribacter', 'sample tax :Terriglobus', 'sample tax :Candidatus Solibacter', 'sample tax :Coraliomargarita', 'sample tax :Opitutus', 'sample tax :Methylacidiphilum', ... ]\n",
      "['truth tax :Pseudomonas', 'truth tax :Bacteroides', 'truth tax :Granulicella', 'truth tax :Streptomyces', 'truth tax :Nocardia', 'truth tax :Rhodococcus', 'truth tax :Frankia', 'truth tax :Flavobacterium', 'truth tax :Streptosporangium', 'truth tax :Haliscomenobacter', 'truth tax :Burkholderia', 'truth tax :Variovorax', 'truth tax :Sorangium', 'truth tax :Stenotrophomonas', 'truth tax :Rhizobium', 'truth tax :Cyclobacterium', 'truth tax :Escherichia', 'truth tax :Pedobacter', 'truth tax :Salmonella', 'truth tax :Anaplasma', 'truth tax :Cellulophaga', 'truth tax :Caulobacter', 'truth tax :Dyadobacter', 'truth tax :Myxococcus', 'truth tax :Salinibacter', 'truth tax :Opitutus', 'truth tax :Prevotella', 'truth tax :Rhodopseudomonas', 'truth tax :Candidatus Solibacter', 'truth tax :Parabacteroides', 'truth tax :Echinicola', 'truth tax :Terriglobus', 'truth tax :Catenulispora', 'truth tax :Helicobacter', 'truth tax :Zunongwangia', 'truth tax :Coraliomargarita', 'truth tax :Methylacidiphilum', 'truth tax :Candidatus Koribacter', 'truth tax :Candidatus Puniceispirillum', 'truth tax :Clavibacter', 'truth tax :Alteromonas', 'truth tax :Fibrella', 'truth tax :Polymorphum', 'truth tax :Pseudopedobacter', 'truth tax :Mycobacterium', ... ]\n",
      "TP=43-- FN=2\n",
      "precision=0.977272727273-- recall=0.955555555556-- F1=0.966292134831\n",
      "(44, 5)\n",
      "(45, 12)\n",
      "###################################\n"
     ]
    }
   ],
   "source": [
    "with open(samples) as input_file:\n",
    "    for i, line in enumerate(input_file):\n",
    "        print line.strip()\n",
    "        print(\"--------------------------------\")\n",
    "        curr_my_sample=my_frame_filt[(my_frame_filt['sample'] == line.strip())]\n",
    "        curr_sample_tax=curr_my_sample['tax_name']\n",
    "        print(\"sample tax :\"+curr_sample_tax)\n",
    "        \n",
    "        curr_truth=truth_frame[(truth_frame['sample'] == line.strip())]\n",
    "        curr_truth_tax=curr_truth['taxon']\n",
    "        print(\"truth tax :\"+curr_truth_tax)\n",
    "        \n",
    "        TP=sum(el in curr_sample_tax for el in curr_truth_tax)\n",
    "        FN=len(curr_truth_tax)-sum(el in curr_truth_tax for el in curr_sample_tax)\n",
    "        print(\"TP=\"+str(TP)+\"-- FN=\"+str(FN))\n",
    "        precision=float(TP)/float(len(curr_sample_tax))\n",
    "        recall=float(TP)/float(TP+FN)\n",
    "        F1=2*((precision*recall)/(precision+recall))\n",
    "        print(\"precision=\"+str(precision)+\"-- recall=\"+str(recall)+\"-- F1=\"+str(F1))\n",
    "        \n",
    "        \n",
    "        print(curr_my_sample.shape)\n",
    "        print(curr_truth.shape)\n",
    "        \n",
    "        print(\"###################################\")\n",
    "        \n"
   ]
  },
  {
   "cell_type": "code",
   "execution_count": null,
   "metadata": {
    "collapsed": true
   },
   "outputs": [],
   "source": []
  },
  {
   "cell_type": "code",
   "execution_count": null,
   "metadata": {
    "collapsed": true
   },
   "outputs": [],
   "source": []
  }
 ],
 "metadata": {
  "kernelspec": {
   "display_name": "Python 2",
   "language": "python",
   "name": "python2"
  },
  "language_info": {
   "codemirror_mode": {
    "name": "ipython",
    "version": 2
   },
   "file_extension": ".py",
   "mimetype": "text/x-python",
   "name": "python",
   "nbconvert_exporter": "python",
   "pygments_lexer": "ipython2",
   "version": "2.7.11"
  }
 },
 "nbformat": 4,
 "nbformat_minor": 0
}
